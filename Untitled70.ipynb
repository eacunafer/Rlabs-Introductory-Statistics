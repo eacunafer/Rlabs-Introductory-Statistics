{
 "cells": [
  {
   "cell_type": "code",
   "execution_count": 6,
   "metadata": {},
   "outputs": [
    {
     "name": "stdout",
     "output_type": "stream",
     "text": [
      "El intervalo de confianza es 2.912376 - 3.279052 \n"
     ]
    }
   ],
   "source": [
    "#ESMA 3016\n",
    "#EAF/Junio 2017\n",
    "#Lab19: Intervalos confianza y prueba de hipotesis para la media\n",
    "#*********************************************************************************************\n",
    "#Caso 1: Poblacion Normal y varianza (sigma^2) conocida\n",
    "#Tambien puede aplicarse si la varianza es desconocida y la muestra es grande\n",
    "#La media muestral xbarra es un estimador de la media pobacionl mu\n",
    "#Intervalo de confianza para mu del 100(1-alfa)%, alfa es el nivel de significacion\n",
    "#xbar-z(alfa/2)*sigma/sqrt(n),xbarra+z(alfa/2)*sigma/sqrt(n)\n",
    "#Ejemplo 1: Hallar el intervalo de confianza del 95% para el promedio de todos los graduandos\n",
    "#basado en la siguiente muestra de 14 graduandos\n",
    "#Asumir que la poblacion es normal con varianza sigma^2=.35^2\n",
    "gpa=c(3.15,2.80,2.56,3.17,3.73,2.77,3.18,3.12,3.33,2.99,2.71,2.83,3.45,3.55)\n",
    "xbarra=mean(gpa)\n",
    "lower=xbarra+qnorm(.025)*.35/sqrt(14)\n",
    "upper=xbarra+qnorm(.975)*.35/sqrt(14)\n",
    "cat(\"El intervalo de confianza es\",lower,\"-\",upper,\"\\n\")"
   ]
  },
  {
   "cell_type": "code",
   "execution_count": 7,
   "metadata": {},
   "outputs": [
    {
     "name": "stdout",
     "output_type": "stream",
     "text": [
      "El p-value es 0.1530999 \n"
     ]
    }
   ],
   "source": [
    "#Probar la hipotesis de que la  gpa promedio de todos los graduandos\n",
    "#sea mayor que 3.0\n",
    "#Sol\n",
    "#Hipotesis nula es mu=3.0\n",
    "#Hipotesis alterna mu>3.0\n",
    "s.e=.35/sqrt(14)\n",
    "ztest=(xbarra-3.0)/s.e\n",
    "#Calculando el p-value\n",
    "p.value=1-pnorm(ztest)\n",
    "cat(\"El p-value es\",p.value,\"\\n\")\n",
    "#pvalue<alfa=.05 rechaza la hipotesis nula de lo contrario lo acepta"
   ]
  },
  {
   "cell_type": "code",
   "execution_count": 9,
   "metadata": {},
   "outputs": [
    {
     "name": "stdout",
     "output_type": "stream",
     "text": [
      "El intervalo de confianza es 3008.553 - 3512.558 \n"
     ]
    }
   ],
   "source": [
    "#Ejemplo 2: Hallar el intervalo de confianza del 90% para el peso promedio (en gramos) de todos los recien nacidos\n",
    "#basado en la siguiente muestra de 18 bebes\n",
    "#Asumir que la poblacion es normal con varianza sigma^2=650^2\n",
    "pesos=c(2400,3600,2525,3125,3300,2875,2335,4000,3820,2990,3110,3810,4100,3700,2200,2800,3700,4300)\n",
    "xbarra=mean(pesos)\n",
    "lower=xbarra+qnorm(.05)*650/sqrt(18)\n",
    "upper=xbarra+qnorm(.95)*650/sqrt(18)\n",
    "cat(\"El intervalo de confianza es\",lower,\"-\",upper,\"\\n\")"
   ]
  },
  {
   "cell_type": "code",
   "execution_count": 10,
   "metadata": {},
   "outputs": [
    {
     "name": "stdout",
     "output_type": "stream",
     "text": [
      "El p-value es 0.05903955 \n"
     ]
    }
   ],
   "source": [
    "#Probar la hipotesis de que la  gpa promedio de todos los graduandos\n",
    "#sea menor que 3500\n",
    "#Sol\n",
    "#Hipotesis nula es mu=3500\n",
    "#Hipotesis alterna mu<3500\n",
    "s.e=650/sqrt(18)\n",
    "ztest=(xbarra-3500)/s.e\n",
    "#Calculando el p-value\n",
    "p.value=pnorm(ztest)\n",
    "cat(\"El p-value es\",p.value,\"\\n\")"
   ]
  },
  {
   "cell_type": "code",
   "execution_count": 11,
   "metadata": {},
   "outputs": [
    {
     "name": "stdout",
     "output_type": "stream",
     "text": [
      "El p-value es 0.9409604 \n"
     ]
    }
   ],
   "source": [
    "#pvalue<alfa=.05 rechaza la hipotesis nula de lo contrario lo acepta\n",
    "#Si la Hipotesis alternativa es \"menor que\" ,P-value=pnorm(ztest)\n",
    "#Si la hipotesis alternativa es \"mayor que\", P-value=1-pnorm(ztest)\n",
    "p.value1=1-pnorm(ztest)\n",
    "cat(\"El p-value es\",p.value1,\"\\n\")"
   ]
  },
  {
   "cell_type": "code",
   "execution_count": 12,
   "metadata": {},
   "outputs": [
    {
     "name": "stdout",
     "output_type": "stream",
     "text": [
      "El p-value es 0.1180791 \n"
     ]
    }
   ],
   "source": [
    "#Si la hipotesis alternativa es \"distinta de\", P-value=2*(1-pnorm(abs(ztest))\n",
    "p.value2=2*(1-pnorm(abs(ztest)))\n",
    "cat(\"El p-value es\",p.value2,\"\\n\")"
   ]
  },
  {
   "cell_type": "code",
   "execution_count": null,
   "metadata": {
    "collapsed": true
   },
   "outputs": [],
   "source": []
  }
 ],
 "metadata": {
  "kernelspec": {
   "display_name": "R",
   "language": "R",
   "name": "ir"
  },
  "language_info": {
   "codemirror_mode": "r",
   "file_extension": ".r",
   "mimetype": "text/x-r-source",
   "name": "R",
   "pygments_lexer": "r",
   "version": "3.4.1"
  }
 },
 "nbformat": 4,
 "nbformat_minor": 2
}
